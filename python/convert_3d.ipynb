{
 "cells": [
  {
   "cell_type": "code",
   "execution_count": 2,
   "metadata": {},
   "outputs": [],
   "source": [
    "import numpy as np\n",
    "from tqdm import tqdm\n",
    "import vtk\n",
    "def load_from_binary(filename):\n",
    "    with open(filename, \"rb\") as file:\n",
    "        # 读取外部 vector 的长度\n",
    "        outer_size = np.fromfile(file, dtype=np.uint64, count=1)[0]\n",
    "        data = []\n",
    "\n",
    "        for _ in range(outer_size):\n",
    "            # 读取每个内部 vector 的长度\n",
    "            inner_size = int(np.fromfile(file, dtype=np.uint64, count=1)[0])  # 转换为整数\n",
    "\n",
    "            # 读取内部 vector 的数据\n",
    "            inner_data = np.fromfile(file, dtype=np.float64, count=inner_size * 3)  # 保证 count 是整数\n",
    "            inner_vector = inner_data.reshape((inner_size, 3))\n",
    "            data.append(inner_vector)\n",
    "\n",
    "    return data\n",
    "\n",
    "# 使用示例\n",
    "# data = load_from_binary(\"ori_traj_3d.bin\")\n",
    "\n"
   ]
  },
  {
   "cell_type": "code",
   "execution_count": 3,
   "metadata": {},
   "outputs": [],
   "source": [
    "from tqdm import tqdm\n",
    "import numpy as np\n",
    "import vtk\n",
    "\n",
    "def save_to_vtk_3d(data, filename):\n",
    "    # 创建一个 vtkPoints 对象来存储所有的点\n",
    "    points = vtk.vtkPoints()\n",
    "    \n",
    "    # 创建一个 vtkCellArray 对象来存储所有的线\n",
    "    lines = vtk.vtkCellArray()\n",
    "\n",
    "    for traj in tqdm(data, desc=\"Processing trajectories\"):\n",
    "        # 检查轨迹的最后一个点是否为 (-1, -1, -1)，如果是则移除\n",
    "        if np.array_equal(traj[-1], np.array([-1, -1, -1])):\n",
    "            traj = traj[:-1]\n",
    "        \n",
    "        # 如果移除后轨迹为空，跳过该轨迹\n",
    "        if len(traj) == 0:\n",
    "            continue\n",
    "        \n",
    "        # 记录线的起始点索引\n",
    "        line = vtk.vtkPolyLine()\n",
    "        line.GetPointIds().SetNumberOfIds(len(traj))\n",
    "        \n",
    "        for i, point in enumerate(traj):\n",
    "            # 将点添加到 vtkPoints\n",
    "            point_id = points.InsertNextPoint(point[0], point[1], point[2])\n",
    "            line.GetPointIds().SetId(i, point_id)\n",
    "        \n",
    "        # 将线添加到 vtkCellArray\n",
    "        lines.InsertNextCell(line)\n",
    "    \n",
    "    # 创建一个 vtkPolyData 对象来存储点和线\n",
    "    polydata = vtk.vtkPolyData()\n",
    "    polydata.SetPoints(points)\n",
    "    polydata.SetLines(lines)\n",
    "    \n",
    "    # 将数据写入 VTK 文件\n",
    "    writer = vtk.vtkPolyDataWriter()\n",
    "    writer.SetFileName(filename)\n",
    "    writer.SetInputData(polydata)\n",
    "    # 设置为二进制格式\n",
    "    writer.SetFileTypeToBinary()\n",
    "    writer.Write()\n",
    "\n"
   ]
  },
  {
   "cell_type": "code",
   "execution_count": 5,
   "metadata": {},
   "outputs": [
    {
     "name": "stdout",
     "output_type": "stream",
     "text": [
      "Total length: 88976292\n"
     ]
    },
    {
     "name": "stderr",
     "output_type": "stream",
     "text": [
      "Processing trajectories: 100%|██████████| 54870/54870 [01:47<00:00, 509.49it/s]\n"
     ]
    }
   ],
   "source": [
    "filename = \"dec_traj_3d\"\n",
    "data = load_from_binary(f\"{filename}.bin\")\n",
    "total_length = 0\n",
    "for inner_vector in data:\n",
    "    total_length += inner_vector.shape[0]\n",
    "print(\"Total length:\", total_length)\n",
    "save_to_vtk_3d(data, f\"{filename}.vtk\")"
   ]
  }
 ],
 "metadata": {
  "kernelspec": {
   "display_name": "base",
   "language": "python",
   "name": "python3"
  },
  "language_info": {
   "codemirror_mode": {
    "name": "ipython",
    "version": 3
   },
   "file_extension": ".py",
   "mimetype": "text/x-python",
   "name": "python",
   "nbconvert_exporter": "python",
   "pygments_lexer": "ipython3",
   "version": "3.10.9"
  }
 },
 "nbformat": 4,
 "nbformat_minor": 2
}
